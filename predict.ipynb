{
  "nbformat": 4,
  "nbformat_minor": 0,
  "metadata": {
    "colab": {
      "name": "predict.ipynb",
      "provenance": [],
      "collapsed_sections": [],
      "mount_file_id": "1rmI_qCmV4nUVuLMjmR2j63yIjeJnRoah",
      "authorship_tag": "ABX9TyNC2iAWld7yc7k1KhH2w3gf",
      "include_colab_link": true
    },
    "kernelspec": {
      "name": "python3",
      "display_name": "Python 3"
    }
  },
  "cells": [
    {
      "cell_type": "markdown",
      "metadata": {
        "id": "view-in-github",
        "colab_type": "text"
      },
      "source": [
        "<a href=\"https://colab.research.google.com/github/HaoHuynh0301/Alphabet-Analysis-Colab/blob/main/predict.ipynb\" target=\"_parent\"><img src=\"https://colab.research.google.com/assets/colab-badge.svg\" alt=\"Open In Colab\"/></a>"
      ]
    },
    {
      "cell_type": "code",
      "metadata": {
        "id": "WuPsuIH-0sE6",
        "outputId": "94c51a95-097f-45e0-e6ff-bcd9ae2d732e",
        "colab": {
          "base_uri": "https://localhost:8080/",
          "height": 34
        }
      },
      "source": [
        "import tensorflow as tf\n",
        "from keras.models import load_model\n",
        "import cv2\n",
        "from keras.utils import CustomObjectScope\n",
        "from keras.initializers import glorot_uniform\n",
        "from keras.models import load_model\n",
        "\n",
        "\n",
        "model = load_model('/content/drive/My Drive/Colab Notebooks/Alphabet_identify/model.h5')\n",
        "img_test = cv2.imread('/content/drive/My Drive/Colab Notebooks/Alphabet_identify/predict/pic_1.png', 0)\n",
        "img_test = img_test.reshape(1, 28, 28, 1)\n",
        "print(model.predict(img_test))"
      ],
      "execution_count": 5,
      "outputs": [
        {
          "output_type": "stream",
          "text": [
            "[[1. 0. 0. 0. 0. 0. 0. 0. 0. 0.]]\n"
          ],
          "name": "stdout"
        }
      ]
    }
  ]
}