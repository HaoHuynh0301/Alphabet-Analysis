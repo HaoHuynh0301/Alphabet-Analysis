{
  "nbformat": 4,
  "nbformat_minor": 0,
  "metadata": {
    "colab": {
      "name": "set_up.ipynb",
      "provenance": [],
      "collapsed_sections": [],
      "mount_file_id": "1fSaQJSiS7_O0utXceHd2W4tKDHVXBVFk",
      "authorship_tag": "ABX9TyOV/v4gix0cIWi1nRTXMBtC",
      "include_colab_link": true
    },
    "kernelspec": {
      "name": "python3",
      "display_name": "Python 3"
    }
  },
  "cells": [
    {
      "cell_type": "markdown",
      "metadata": {
        "id": "view-in-github",
        "colab_type": "text"
      },
      "source": [
        "<a href=\"https://colab.research.google.com/github/HaoHuynh0301/Alphabet-Analysis-Colab/blob/main/set_up.ipynb\" target=\"_parent\"><img src=\"https://colab.research.google.com/assets/colab-badge.svg\" alt=\"Open In Colab\"/></a>"
      ]
    },
    {
      "cell_type": "code",
      "metadata": {
        "id": "cehVORqVx1cI"
      },
      "source": [
        "import pandas as pd\n",
        "import numpy as np\n",
        "import matplotlib as mpl \n",
        "import tensorflow as tf\n",
        "import cv2\n",
        "import keras"
      ],
      "execution_count": 2,
      "outputs": []
    }
  ]
}